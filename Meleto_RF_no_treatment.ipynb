{
 "cells": [
  {
   "cell_type": "code",
   "execution_count": 15,
   "id": "43dc4d91-95a5-4214-b58b-813a5917e35b",
   "metadata": {},
   "outputs": [],
   "source": [
    "import pandas as pd\n",
    "import numpy as np\n",
    "from sklearn.model_selection import train_test_split\n",
    "# from xgboost import XGBRegressor\n",
    "from sklearn.ensemble import RandomForestRegressor\n",
    "from sklearn.model_selection import RandomizedSearchCV\n",
    "from scipy.stats import randint, uniform\n",
    "from sklearn.metrics import root_mean_squared_error, mean_absolute_error, mean_squared_error, r2_score, median_absolute_error\n",
    "from datetime import datetime\n",
    "import time\n",
    "import joblib\n",
    "from IPython.display import display\n",
    "import matplotlib.pyplot as plt"
   ]
  },
  {
   "cell_type": "code",
   "execution_count": 2,
   "id": "b4cde584-94dc-4f0c-ac29-56d29e0d8191",
   "metadata": {},
   "outputs": [],
   "source": [
    "# Display all dataframe columns\n",
    "pd.set_option('display.max_columns', None)"
   ]
  },
  {
   "cell_type": "code",
   "execution_count": 3,
   "id": "aa0ed8df-f50e-4ef6-a8ce-ed886f3555c6",
   "metadata": {},
   "outputs": [],
   "source": [
    "from sklearn.metrics import mean_squared_error\n",
    "\n",
    "def rmse_precent(y_true, y_pred):\n",
    "    # RMSE\n",
    "    rmse = np.sqrt(mean_squared_error(y_true, y_pred))\n",
    "    # RMSE% rispetto alla media\n",
    "    return (rmse / np.mean(y_true)) * 100"
   ]
  },
  {
   "cell_type": "code",
   "execution_count": 4,
   "id": "e29d4fe7-d92d-4ea1-80d2-376f40d9605a",
   "metadata": {},
   "outputs": [
    {
     "data": {
      "text/html": [
       "<div>\n",
       "<style scoped>\n",
       "    .dataframe tbody tr th:only-of-type {\n",
       "        vertical-align: middle;\n",
       "    }\n",
       "\n",
       "    .dataframe tbody tr th {\n",
       "        vertical-align: top;\n",
       "    }\n",
       "\n",
       "    .dataframe thead th {\n",
       "        text-align: right;\n",
       "    }\n",
       "</style>\n",
       "<table border=\"1\" class=\"dataframe\">\n",
       "  <thead>\n",
       "    <tr style=\"text-align: right;\">\n",
       "      <th></th>\n",
       "      <th>Treatment</th>\n",
       "      <th>target</th>\n",
       "      <th>botton_score</th>\n",
       "      <th>max</th>\n",
       "      <th>min</th>\n",
       "      <th>range</th>\n",
       "      <th>mean</th>\n",
       "      <th>std</th>\n",
       "      <th>median</th>\n",
       "      <th>non_zero_per_row</th>\n",
       "    </tr>\n",
       "  </thead>\n",
       "  <tbody>\n",
       "    <tr>\n",
       "      <th>0</th>\n",
       "      <td>UTC</td>\n",
       "      <td>0.75</td>\n",
       "      <td>0.0430</td>\n",
       "      <td>16.3</td>\n",
       "      <td>13.1</td>\n",
       "      <td>3.2</td>\n",
       "      <td>15.0750</td>\n",
       "      <td>1.3769</td>\n",
       "      <td>15.45</td>\n",
       "      <td>4</td>\n",
       "    </tr>\n",
       "    <tr>\n",
       "      <th>1</th>\n",
       "      <td>UTC</td>\n",
       "      <td>0.33</td>\n",
       "      <td>0.1130</td>\n",
       "      <td>17.3</td>\n",
       "      <td>12.2</td>\n",
       "      <td>5.1</td>\n",
       "      <td>14.7333</td>\n",
       "      <td>2.5502</td>\n",
       "      <td>14.70</td>\n",
       "      <td>3</td>\n",
       "    </tr>\n",
       "    <tr>\n",
       "      <th>2</th>\n",
       "      <td>UTC</td>\n",
       "      <td>0.25</td>\n",
       "      <td>0.0406</td>\n",
       "      <td>15.6</td>\n",
       "      <td>12.7</td>\n",
       "      <td>2.9</td>\n",
       "      <td>14.2000</td>\n",
       "      <td>1.3342</td>\n",
       "      <td>14.25</td>\n",
       "      <td>4</td>\n",
       "    </tr>\n",
       "  </tbody>\n",
       "</table>\n",
       "</div>"
      ],
      "text/plain": [
       "  Treatment  target  botton_score   max   min  range     mean     std  median  \\\n",
       "0       UTC    0.75        0.0430  16.3  13.1    3.2  15.0750  1.3769   15.45   \n",
       "1       UTC    0.33        0.1130  17.3  12.2    5.1  14.7333  2.5502   14.70   \n",
       "2       UTC    0.25        0.0406  15.6  12.7    2.9  14.2000  1.3342   14.25   \n",
       "\n",
       "   non_zero_per_row  \n",
       "0                 4  \n",
       "1                 3  \n",
       "2                 4  "
      ]
     },
     "execution_count": 4,
     "metadata": {},
     "output_type": "execute_result"
    }
   ],
   "source": [
    "df = pd.read_csv(\"meleto_per_analisi.csv\")\n",
    "df.head(3)"
   ]
  },
  {
   "cell_type": "code",
   "execution_count": 5,
   "id": "3730fb82-85fc-4697-bb12-375a776adffb",
   "metadata": {},
   "outputs": [
    {
     "name": "stdout",
     "output_type": "stream",
     "text": [
      "Treatment                                      [UTC, Brevis, BA, ACC]\n",
      "target              [0.75, 0.33, 0.25, 0.5, 0.67, 1.0, 0.0, 0.4, 0...\n",
      "botton_score        [0.043, 0.113, 0.0406, 0.0986, 0.0447, 0.1202,...\n",
      "max                 [16.3, 17.3, 15.6, 16.4, 15.7, 15.8, 15.1, 13....\n",
      "min                 [13.1, 12.2, 12.7, 9.0, 11.9, 11.0, 9.5, 7.5, ...\n",
      "range               [3.2, 5.1, 2.9, 7.4, 3.8, 4.8, 7.8, 7.6, 4.9, ...\n",
      "mean                [15.075, 14.7333, 14.2, 13.5, 13.3667, 13.6333...\n",
      "std                 [1.3769, 2.5502, 1.3342, 3.3882, 2.0429, 2.433...\n",
      "median              [15.45, 14.7, 14.25, 14.3, 12.5, 14.1, 16.7, 9...\n",
      "non_zero_per_row                                [4, 3, 1, 5, 2, 6, 7]\n",
      "dtype: object\n"
     ]
    }
   ],
   "source": [
    "print(df.apply(lambda col: col.unique()))"
   ]
  },
  {
   "cell_type": "code",
   "execution_count": 6,
   "id": "59ab3df3-4bb3-4750-9833-bf84d8b27289",
   "metadata": {},
   "outputs": [
    {
     "data": {
      "text/html": [
       "<div>\n",
       "<style scoped>\n",
       "    .dataframe tbody tr th:only-of-type {\n",
       "        vertical-align: middle;\n",
       "    }\n",
       "\n",
       "    .dataframe tbody tr th {\n",
       "        vertical-align: top;\n",
       "    }\n",
       "\n",
       "    .dataframe thead th {\n",
       "        text-align: right;\n",
       "    }\n",
       "</style>\n",
       "<table border=\"1\" class=\"dataframe\">\n",
       "  <thead>\n",
       "    <tr style=\"text-align: right;\">\n",
       "      <th></th>\n",
       "      <th>target</th>\n",
       "      <th>botton_score</th>\n",
       "      <th>max</th>\n",
       "      <th>min</th>\n",
       "      <th>range</th>\n",
       "      <th>mean</th>\n",
       "      <th>std</th>\n",
       "      <th>median</th>\n",
       "      <th>non_zero_per_row</th>\n",
       "    </tr>\n",
       "  </thead>\n",
       "  <tbody>\n",
       "    <tr>\n",
       "      <th>0</th>\n",
       "      <td>0.75</td>\n",
       "      <td>0.0430</td>\n",
       "      <td>16.3</td>\n",
       "      <td>13.1</td>\n",
       "      <td>3.2</td>\n",
       "      <td>15.0750</td>\n",
       "      <td>1.3769</td>\n",
       "      <td>15.45</td>\n",
       "      <td>4</td>\n",
       "    </tr>\n",
       "    <tr>\n",
       "      <th>1</th>\n",
       "      <td>0.33</td>\n",
       "      <td>0.1130</td>\n",
       "      <td>17.3</td>\n",
       "      <td>12.2</td>\n",
       "      <td>5.1</td>\n",
       "      <td>14.7333</td>\n",
       "      <td>2.5502</td>\n",
       "      <td>14.70</td>\n",
       "      <td>3</td>\n",
       "    </tr>\n",
       "    <tr>\n",
       "      <th>2</th>\n",
       "      <td>0.25</td>\n",
       "      <td>0.0406</td>\n",
       "      <td>15.6</td>\n",
       "      <td>12.7</td>\n",
       "      <td>2.9</td>\n",
       "      <td>14.2000</td>\n",
       "      <td>1.3342</td>\n",
       "      <td>14.25</td>\n",
       "      <td>4</td>\n",
       "    </tr>\n",
       "  </tbody>\n",
       "</table>\n",
       "</div>"
      ],
      "text/plain": [
       "   target  botton_score   max   min  range     mean     std  median  \\\n",
       "0    0.75        0.0430  16.3  13.1    3.2  15.0750  1.3769   15.45   \n",
       "1    0.33        0.1130  17.3  12.2    5.1  14.7333  2.5502   14.70   \n",
       "2    0.25        0.0406  15.6  12.7    2.9  14.2000  1.3342   14.25   \n",
       "\n",
       "   non_zero_per_row  \n",
       "0                 4  \n",
       "1                 3  \n",
       "2                 4  "
      ]
     },
     "execution_count": 6,
     "metadata": {},
     "output_type": "execute_result"
    }
   ],
   "source": [
    "# get treatment type for train_test_split stratify    \n",
    "treatment = df['Treatment'] \n",
    "\n",
    "df = df.drop(columns=['Treatment',])\n",
    "df.head(3)"
   ]
  },
  {
   "cell_type": "code",
   "execution_count": 7,
   "id": "dfe0e5c3-6cd5-4d0d-81d3-e69e8d7ae672",
   "metadata": {},
   "outputs": [],
   "source": [
    "y = df['target'] \n",
    "X = df.drop(['target'], axis=1)"
   ]
  },
  {
   "cell_type": "code",
   "execution_count": 8,
   "id": "4e47e1ce-bb9d-4591-9f01-7b87e3374ef0",
   "metadata": {},
   "outputs": [],
   "source": [
    "# 80/20 train-test\n",
    "X_train, X_test, y_train, y_test = train_test_split(X, y, test_size=0.20, stratify=treatment)"
   ]
  },
  {
   "cell_type": "code",
   "execution_count": 9,
   "id": "431788db-ee8d-4bfb-9de4-411dad0e3bad",
   "metadata": {},
   "outputs": [
    {
     "data": {
      "text/html": [
       "<div>\n",
       "<style scoped>\n",
       "    .dataframe tbody tr th:only-of-type {\n",
       "        vertical-align: middle;\n",
       "    }\n",
       "\n",
       "    .dataframe tbody tr th {\n",
       "        vertical-align: top;\n",
       "    }\n",
       "\n",
       "    .dataframe thead th {\n",
       "        text-align: right;\n",
       "    }\n",
       "</style>\n",
       "<table border=\"1\" class=\"dataframe\">\n",
       "  <thead>\n",
       "    <tr style=\"text-align: right;\">\n",
       "      <th></th>\n",
       "      <th>max</th>\n",
       "      <th>min</th>\n",
       "      <th>range</th>\n",
       "      <th>mean</th>\n",
       "      <th>std</th>\n",
       "      <th>median</th>\n",
       "      <th>non_zero_per_row</th>\n",
       "    </tr>\n",
       "  </thead>\n",
       "  <tbody>\n",
       "    <tr>\n",
       "      <th>5031</th>\n",
       "      <td>14.78</td>\n",
       "      <td>8.18</td>\n",
       "      <td>6.60</td>\n",
       "      <td>11.858</td>\n",
       "      <td>2.4517</td>\n",
       "      <td>12.140</td>\n",
       "      <td>5</td>\n",
       "    </tr>\n",
       "    <tr>\n",
       "      <th>10149</th>\n",
       "      <td>16.85</td>\n",
       "      <td>7.74</td>\n",
       "      <td>9.11</td>\n",
       "      <td>14.195</td>\n",
       "      <td>3.2803</td>\n",
       "      <td>15.185</td>\n",
       "      <td>6</td>\n",
       "    </tr>\n",
       "    <tr>\n",
       "      <th>7041</th>\n",
       "      <td>12.50</td>\n",
       "      <td>9.50</td>\n",
       "      <td>3.00</td>\n",
       "      <td>11.360</td>\n",
       "      <td>1.1524</td>\n",
       "      <td>11.400</td>\n",
       "      <td>5</td>\n",
       "    </tr>\n",
       "  </tbody>\n",
       "</table>\n",
       "</div>"
      ],
      "text/plain": [
       "         max   min  range    mean     std  median  non_zero_per_row\n",
       "5031   14.78  8.18   6.60  11.858  2.4517  12.140                 5\n",
       "10149  16.85  7.74   9.11  14.195  3.2803  15.185                 6\n",
       "7041   12.50  9.50   3.00  11.360  1.1524  11.400                 5"
      ]
     },
     "metadata": {},
     "output_type": "display_data"
    },
    {
     "data": {
      "text/html": [
       "<div>\n",
       "<style scoped>\n",
       "    .dataframe tbody tr th:only-of-type {\n",
       "        vertical-align: middle;\n",
       "    }\n",
       "\n",
       "    .dataframe tbody tr th {\n",
       "        vertical-align: top;\n",
       "    }\n",
       "\n",
       "    .dataframe thead th {\n",
       "        text-align: right;\n",
       "    }\n",
       "</style>\n",
       "<table border=\"1\" class=\"dataframe\">\n",
       "  <thead>\n",
       "    <tr style=\"text-align: right;\">\n",
       "      <th></th>\n",
       "      <th>max</th>\n",
       "      <th>min</th>\n",
       "      <th>range</th>\n",
       "      <th>mean</th>\n",
       "      <th>std</th>\n",
       "      <th>median</th>\n",
       "      <th>non_zero_per_row</th>\n",
       "    </tr>\n",
       "  </thead>\n",
       "  <tbody>\n",
       "    <tr>\n",
       "      <th>2880</th>\n",
       "      <td>13.60</td>\n",
       "      <td>10.06</td>\n",
       "      <td>3.54</td>\n",
       "      <td>11.4140</td>\n",
       "      <td>1.4248</td>\n",
       "      <td>11.440</td>\n",
       "      <td>5</td>\n",
       "    </tr>\n",
       "    <tr>\n",
       "      <th>4645</th>\n",
       "      <td>17.00</td>\n",
       "      <td>10.00</td>\n",
       "      <td>7.00</td>\n",
       "      <td>12.4000</td>\n",
       "      <td>2.8810</td>\n",
       "      <td>12.000</td>\n",
       "      <td>5</td>\n",
       "    </tr>\n",
       "    <tr>\n",
       "      <th>171</th>\n",
       "      <td>16.72</td>\n",
       "      <td>6.54</td>\n",
       "      <td>10.18</td>\n",
       "      <td>9.7425</td>\n",
       "      <td>4.7456</td>\n",
       "      <td>7.855</td>\n",
       "      <td>4</td>\n",
       "    </tr>\n",
       "  </tbody>\n",
       "</table>\n",
       "</div>"
      ],
      "text/plain": [
       "        max    min  range     mean     std  median  non_zero_per_row\n",
       "2880  13.60  10.06   3.54  11.4140  1.4248  11.440                 5\n",
       "4645  17.00  10.00   7.00  12.4000  2.8810  12.000                 5\n",
       "171   16.72   6.54  10.18   9.7425  4.7456   7.855                 4"
      ]
     },
     "metadata": {},
     "output_type": "display_data"
    }
   ],
   "source": [
    "# Remove botton score\n",
    "X_train = X_train.drop(['botton_score'], axis=1)\n",
    "\n",
    "# remove botton score\n",
    "botton_score_test = X_test['botton_score']\n",
    "X_test = X_test.drop(['botton_score'], axis=1)\n",
    "\n",
    "# display for check\n",
    "display(X_train.head(3))\n",
    "display(X_test.head(3))"
   ]
  },
  {
   "cell_type": "code",
   "execution_count": 10,
   "id": "59dc8083-1e3d-440d-8ab0-475e16f85e18",
   "metadata": {},
   "outputs": [],
   "source": [
    "# Metrics for botton score for all sample no treatment\n",
    "metrics_botton_score = {\n",
    "    'Model': 'Botton score',\n",
    "    'MAE': mean_absolute_error(y_test, botton_score_test), # Mean Absolute Error\n",
    "    'MSE': mean_squared_error(y_test, botton_score_test), # Mean Squared Error\n",
    "    'RMSE': root_mean_squared_error(y_test, botton_score_test), # Root Mean Squared Error\n",
    "    'RMSE_per': rmse_precent(y_test, botton_score_test), # Root Mean Squared Error %    \n",
    "    'R2': r2_score(y_test, botton_score_test), # R2\n",
    "    'Median_AE': median_absolute_error(y_test, botton_score_test) # Median Absolute Error\n",
    "}"
   ]
  },
  {
   "cell_type": "markdown",
   "id": "03b21b7a-5d25-44ee-9dcc-c2a59534fc14",
   "metadata": {},
   "source": [
    "## Random Forest Regression for all sample and no treatment as feature"
   ]
  },
  {
   "cell_type": "code",
   "execution_count": 11,
   "id": "e818e4c2-2822-4726-90fd-0d19c52d1b5a",
   "metadata": {},
   "outputs": [],
   "source": [
    "# Define hyperparameter distribution for Random Forest\n",
    "param_dist = {\n",
    "    'n_estimators': randint(600, 1500), # integer\n",
    "    'max_depth': randint(5, 8), # integer\n",
    "    'min_samples_split': uniform(0.1, 0.5), # float\n",
    "    'min_samples_leaf': uniform(0.01, 0.3), # float\n",
    "    'max_features': uniform(0.1, 0.9), # float\n",
    "    'min_weight_fraction_leaf': uniform(0.1, 0.4), # float\n",
    "    'max_leaf_nodes': [2**n for n in range(1, 7)], # list of 2^n with $n \\in N$\n",
    "    'min_impurity_decrease': uniform(0.0, 1.0) # float\n",
    "    #'bootstrap': [True, False]\n",
    "}"
   ]
  },
  {
   "cell_type": "code",
   "execution_count": 12,
   "id": "09af9fea-b383-4f1b-a15f-3221d79b1f36",
   "metadata": {},
   "outputs": [
    {
     "name": "stdout",
     "output_type": "stream",
     "text": [
      "Fitting 5 folds for each of 1000 candidates, totalling 5000 fits\n"
     ]
    }
   ],
   "source": [
    "# Define the model\n",
    "model = RandomForestRegressor(criterion=\"squared_error\", bootstrap=True, n_jobs=-1)\n",
    "\n",
    "# Perform randomized search\n",
    "rf_search = RandomizedSearchCV(\n",
    "    estimator=model,\n",
    "    param_distributions=param_dist,\n",
    "    n_iter=1000,\n",
    "    cv=5,\n",
    "    scoring='neg_mean_squared_error',\n",
    "    verbose=1\n",
    "    # random_state=42\n",
    ")\n",
    "    \n",
    "# Fit the model \n",
    "rf_search.fit(X_train, y_train.squeeze())\n",
    "\n",
    "# Miglior modello e predizioni\n",
    "best_model = rf_search.best_estimator_ # BEST MODEL\n",
    "y_pred = best_model.predict(X_test)\n",
    "\n",
    "# Metrics\n",
    "metrics = {\n",
    "    'Model': 'Random Forest',\n",
    "    'MAE': mean_absolute_error(y_test, y_pred), # Mean Absolute Error\n",
    "    'MSE': mean_squared_error(y_test, y_pred), # Mean Squared Error\n",
    "    'RMSE': root_mean_squared_error(y_test, y_pred), # Root Mean Squared Error\n",
    "    'RMSE_per': rmse_precent(y_test, y_pred), # Root Mean Squared Error %    \n",
    "    'R2': r2_score(y_test, y_pred), # R2\n",
    "    'Median_AE': median_absolute_error(y_test, y_pred) # Median Absolute Error\n",
    "}\n",
    "\n",
    "# Save all\n",
    "timestamp = datetime.now().strftime(\"%Y%m%dT%H%M\") # Timestamp per i file\n",
    "    \n",
    "# (1) Save Best Model\n",
    "joblib.dump(best_model, f\"allsample_notreatment_RF_best_model_{timestamp}.pkl\")\n",
    "    \n",
    "# (2) Save Metrics\n",
    "df_metrics = pd.DataFrame([metrics_botton_score, metrics])  # una riga con tutte le metriche\n",
    "df_metrics.to_csv(f\"allsample_notreatment_RF_evaluation_metrics_{timestamp}.csv\", index=False)\n",
    "    \n",
    "# (3) Save best hyper-parameters\n",
    "best_params = rf_search.best_params_ # get best hyper-parameters\n",
    "df_params = pd.DataFrame([best_params])  # una riga con tutti gli iperparametri\n",
    "df_params.to_csv(f\"allsample_notreatment_RF_best_params_{timestamp}.csv\", index=False)\n",
    "    \n",
    "# (4) Save y_test e y_pred\n",
    "df_pred = pd.DataFrame({'y_test': y_test.squeeze(), 'y_pred': y_pred})\n",
    "df_pred.to_csv(f\"allsample_notreatment_RF_predictions_{timestamp}.csv\", index=False)"
   ]
  },
  {
   "cell_type": "code",
   "execution_count": 13,
   "id": "d2cba1a2-eb06-4b7c-ab50-d14a12c3e32b",
   "metadata": {},
   "outputs": [
    {
     "name": "stdout",
     "output_type": "stream",
     "text": [
      "Errors Botton score all sample and no treatment:\n",
      " - MAE: 0.492\n",
      " - MSE: 0.3323\n",
      " - RMSE: 0.5764\n",
      " - RMSE_per: 89.6188\n",
      " - R2: -2.1648\n",
      " - Median Absolute Error: 0.4867\n"
     ]
    }
   ],
   "source": [
    "print(\"Errors Botton score all sample and no treatment:\")\n",
    "print(f\" - MAE: {round(metrics_botton_score['MAE'], 4)}\")\n",
    "print(f\" - MSE: {round(metrics_botton_score['MSE'], 4)}\")\n",
    "print(f\" - RMSE: {round(metrics_botton_score['RMSE'], 4)}\")\n",
    "print(f\" - RMSE_per: {round(metrics_botton_score['RMSE_per'], 4)}\")\n",
    "print(f\" - R2: {round(metrics_botton_score['R2'], 4)}\")\n",
    "print(f\" - Median Absolute Error: {round(metrics_botton_score['Median_AE'], 4)}\")"
   ]
  },
  {
   "cell_type": "code",
   "execution_count": 14,
   "id": "74a5a946-3fea-4e03-93a1-ff55158d5c08",
   "metadata": {},
   "outputs": [
    {
     "name": "stdout",
     "output_type": "stream",
     "text": [
      "Errors Random Forest all sample and no treatment:\n",
      " - MAE: 0.2495\n",
      " - MSE: 0.0907\n",
      " - RMSE: 0.3012\n",
      " - RMSE_per: 46.8317\n",
      " - R2: 0.1358\n",
      " - Median Absolute Error: 0.2498\n"
     ]
    }
   ],
   "source": [
    "print(\"Errors Random Forest all sample and no treatment:\")\n",
    "print(f\" - MAE: {round(metrics['MAE'], 4)}\")\n",
    "print(f\" - MSE: {round(metrics['MSE'], 4)}\")\n",
    "print(f\" - RMSE: {round(metrics['RMSE'], 4)}\")\n",
    "print(f\" - RMSE_per: {round(metrics['RMSE_per'], 4)}\")\n",
    "print(f\" - R2: {round(metrics['R2'], 4)}\")\n",
    "print(f\" - Median Absolute Error: {round(metrics['Median_AE'], 4)}\")"
   ]
  },
  {
   "cell_type": "code",
   "execution_count": 16,
   "id": "3a536952-8e9d-4f42-b205-c4f8e9168edb",
   "metadata": {},
   "outputs": [
    {
     "name": "stdout",
     "output_type": "stream",
     "text": [
      "\n",
      "Feature importance:\n",
      "             Feature  Importance\n",
      "1               min    0.641641\n",
      "3              mean    0.211081\n",
      "5            median    0.116651\n",
      "2             range    0.014953\n",
      "0               max    0.013033\n",
      "4               std    0.002641\n",
      "6  non_zero_per_row    0.000000\n"
     ]
    }
   ],
   "source": [
    "importances = best_model.feature_importances_\n",
    "\n",
    "feat_importances = pd.DataFrame({\n",
    "    \"Feature\": X_test.columns,\n",
    "    \"Importance\": importances\n",
    "}).sort_values(by=\"Importance\", ascending=False)\n",
    "\n",
    "# print(\"Migliori iperparametri:\", rf_search.best_params_)\n",
    "print(\"\\nFeature importance:\\n\", feat_importances)"
   ]
  },
  {
   "cell_type": "code",
   "execution_count": 17,
   "id": "f5d5c28e-68e2-49ad-b56e-6e2865e0e858",
   "metadata": {},
   "outputs": [
    {
     "data": {
      "image/png": "[encoded data removed]",
      "text/plain": [
       "<Figure size 800x500 with 1 Axes>"
      ]
     },
     "metadata": {},
     "output_type": "display_data"
    }
   ],
   "source": [
    "plt.figure(figsize=(8,5))\n",
    "plt.barh(feat_importances[\"Feature\"], feat_importances[\"Importance\"], color=\"skyblue\", edgecolor=\"black\")\n",
    "plt.title(\"Feature Importance - Best Random Forest Model - all samples but without treatment as a feature\")\n",
    "plt.xlabel(\"Importance\")\n",
    "plt.ylabel(\"Features\")\n",
    "plt.gca().invert_yaxis()  # Per avere la più importante in alto\n",
    "plt.tight_layout()\n",
    "plt.show()"
   ]
  },
  {
   "cell_type": "code",
   "execution_count": null,
   "id": "cd8b5653-60bb-4893-bf55-792333fc65f8",
   "metadata": {},
   "outputs": [],
   "source": []
  }
 ],
 "metadata": {
  "kernelspec": {
   "display_name": "Python 3 (ipykernel)",
   "language": "python",
   "name": "python3"
  },
  "language_info": {
   "codemirror_mode": {
    "name": "ipython",
    "version": 3
   },
   "file_extension": ".py",
   "mimetype": "text/x-python",
   "name": "python",
   "nbconvert_exporter": "python",
   "pygments_lexer": "ipython3",
   "version": "3.13.7"
  }
 },
 "nbformat": 4,
 "nbformat_minor": 5
}
