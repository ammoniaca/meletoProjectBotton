{
 "cells": [
  {
   "cell_type": "code",
   "execution_count": 1,
   "id": "60b3720d-b062-4dfb-9938-5f1ab2d09170",
   "metadata": {},
   "outputs": [],
   "source": [
    "import pandas as pd\n",
    "import numpy as np\n",
    "from sklearn.model_selection import train_test_split\n",
    "from xgboost import XGBRegressor\n",
    "from sklearn.model_selection import RandomizedSearchCV\n",
    "from scipy.stats import randint, uniform\n",
    "from sklearn.metrics import root_mean_squared_error, mean_absolute_error, mean_squared_error, r2_score, median_absolute_error\n",
    "from datetime import datetime\n",
    "import time\n",
    "import joblib\n",
    "from IPython.display import display\n",
    "import matplotlib.pyplot as plt\n",
    "from scipy.stats import beta\n",
    "from scipy.stats import loguniform"
   ]
  },
  {
   "cell_type": "code",
   "execution_count": 2,
   "id": "eb85d1d7-befc-42c6-bc06-77f07cc32765",
   "metadata": {},
   "outputs": [],
   "source": [
    "# Display all dataframe columns\n",
    "pd.set_option('display.max_columns', None)"
   ]
  },
  {
   "cell_type": "code",
   "execution_count": 3,
   "id": "7b8ec108-3f74-4355-8200-bc42aef275a9",
   "metadata": {},
   "outputs": [],
   "source": [
    "from sklearn.metrics import mean_squared_error\n",
    "\n",
    "def rmse_precent(y_true, y_pred):\n",
    "    # RMSE\n",
    "    rmse = np.sqrt(mean_squared_error(y_true, y_pred))\n",
    "    # RMSE% rispetto alla media\n",
    "    return (rmse / np.mean(y_true)) * 100"
   ]
  },
  {
   "cell_type": "code",
   "execution_count": 4,
   "id": "6c81c14b-c99b-492b-a7c6-bc82659c3960",
   "metadata": {},
   "outputs": [
    {
     "data": {
      "text/html": [
       "<div>\n",
       "<style scoped>\n",
       "    .dataframe tbody tr th:only-of-type {\n",
       "        vertical-align: middle;\n",
       "    }\n",
       "\n",
       "    .dataframe tbody tr th {\n",
       "        vertical-align: top;\n",
       "    }\n",
       "\n",
       "    .dataframe thead th {\n",
       "        text-align: right;\n",
       "    }\n",
       "</style>\n",
       "<table border=\"1\" class=\"dataframe\">\n",
       "  <thead>\n",
       "    <tr style=\"text-align: right;\">\n",
       "      <th></th>\n",
       "      <th>Treatment</th>\n",
       "      <th>target</th>\n",
       "      <th>botton_score</th>\n",
       "      <th>max</th>\n",
       "      <th>min</th>\n",
       "      <th>range</th>\n",
       "      <th>mean</th>\n",
       "      <th>std</th>\n",
       "      <th>median</th>\n",
       "      <th>non_zero_per_row</th>\n",
       "    </tr>\n",
       "  </thead>\n",
       "  <tbody>\n",
       "    <tr>\n",
       "      <th>0</th>\n",
       "      <td>UTC</td>\n",
       "      <td>0.75</td>\n",
       "      <td>0.0430</td>\n",
       "      <td>16.3</td>\n",
       "      <td>13.1</td>\n",
       "      <td>3.2</td>\n",
       "      <td>15.0750</td>\n",
       "      <td>1.3769</td>\n",
       "      <td>15.45</td>\n",
       "      <td>4</td>\n",
       "    </tr>\n",
       "    <tr>\n",
       "      <th>1</th>\n",
       "      <td>UTC</td>\n",
       "      <td>0.33</td>\n",
       "      <td>0.1130</td>\n",
       "      <td>17.3</td>\n",
       "      <td>12.2</td>\n",
       "      <td>5.1</td>\n",
       "      <td>14.7333</td>\n",
       "      <td>2.5502</td>\n",
       "      <td>14.70</td>\n",
       "      <td>3</td>\n",
       "    </tr>\n",
       "    <tr>\n",
       "      <th>2</th>\n",
       "      <td>UTC</td>\n",
       "      <td>0.25</td>\n",
       "      <td>0.0406</td>\n",
       "      <td>15.6</td>\n",
       "      <td>12.7</td>\n",
       "      <td>2.9</td>\n",
       "      <td>14.2000</td>\n",
       "      <td>1.3342</td>\n",
       "      <td>14.25</td>\n",
       "      <td>4</td>\n",
       "    </tr>\n",
       "  </tbody>\n",
       "</table>\n",
       "</div>"
      ],
      "text/plain": [
       "  Treatment  target  botton_score   max   min  range     mean     std  median  \\\n",
       "0       UTC    0.75        0.0430  16.3  13.1    3.2  15.0750  1.3769   15.45   \n",
       "1       UTC    0.33        0.1130  17.3  12.2    5.1  14.7333  2.5502   14.70   \n",
       "2       UTC    0.25        0.0406  15.6  12.7    2.9  14.2000  1.3342   14.25   \n",
       "\n",
       "   non_zero_per_row  \n",
       "0                 4  \n",
       "1                 3  \n",
       "2                 4  "
      ]
     },
     "execution_count": 4,
     "metadata": {},
     "output_type": "execute_result"
    }
   ],
   "source": [
    "df = pd.read_csv(\"meleto_per_analisi.csv\")\n",
    "df.head(3)"
   ]
  },
  {
   "cell_type": "code",
   "execution_count": 5,
   "id": "784742a9-05d5-4990-8ebf-a9204be84241",
   "metadata": {},
   "outputs": [
    {
     "name": "stdout",
     "output_type": "stream",
     "text": [
      "Treatment                                      [UTC, Brevis, BA, ACC]\n",
      "target              [0.75, 0.33, 0.25, 0.5, 0.67, 1.0, 0.0, 0.4, 0...\n",
      "botton_score        [0.043, 0.113, 0.0406, 0.0986, 0.0447, 0.1202,...\n",
      "max                 [16.3, 17.3, 15.6, 16.4, 15.7, 15.8, 15.1, 13....\n",
      "min                 [13.1, 12.2, 12.7, 9.0, 11.9, 11.0, 9.5, 7.5, ...\n",
      "range               [3.2, 5.1, 2.9, 7.4, 3.8, 4.8, 7.8, 7.6, 4.9, ...\n",
      "mean                [15.075, 14.7333, 14.2, 13.5, 13.3667, 13.6333...\n",
      "std                 [1.3769, 2.5502, 1.3342, 3.3882, 2.0429, 2.433...\n",
      "median              [15.45, 14.7, 14.25, 14.3, 12.5, 14.1, 16.7, 9...\n",
      "non_zero_per_row                                [4, 3, 1, 5, 2, 6, 7]\n",
      "dtype: object\n"
     ]
    }
   ],
   "source": [
    "print(df.apply(lambda col: col.unique()))"
   ]
  },
  {
   "cell_type": "code",
   "execution_count": 6,
   "id": "59c1d8fb-1d76-43f1-bfd5-967bece69f51",
   "metadata": {},
   "outputs": [
    {
     "data": {
      "text/html": [
       "<div>\n",
       "<style scoped>\n",
       "    .dataframe tbody tr th:only-of-type {\n",
       "        vertical-align: middle;\n",
       "    }\n",
       "\n",
       "    .dataframe tbody tr th {\n",
       "        vertical-align: top;\n",
       "    }\n",
       "\n",
       "    .dataframe thead th {\n",
       "        text-align: right;\n",
       "    }\n",
       "</style>\n",
       "<table border=\"1\" class=\"dataframe\">\n",
       "  <thead>\n",
       "    <tr style=\"text-align: right;\">\n",
       "      <th></th>\n",
       "      <th>target</th>\n",
       "      <th>botton_score</th>\n",
       "      <th>max</th>\n",
       "      <th>min</th>\n",
       "      <th>range</th>\n",
       "      <th>mean</th>\n",
       "      <th>std</th>\n",
       "      <th>median</th>\n",
       "      <th>non_zero_per_row</th>\n",
       "    </tr>\n",
       "  </thead>\n",
       "  <tbody>\n",
       "    <tr>\n",
       "      <th>0</th>\n",
       "      <td>0.75</td>\n",
       "      <td>0.0430</td>\n",
       "      <td>16.3</td>\n",
       "      <td>13.1</td>\n",
       "      <td>3.2</td>\n",
       "      <td>15.0750</td>\n",
       "      <td>1.3769</td>\n",
       "      <td>15.45</td>\n",
       "      <td>4</td>\n",
       "    </tr>\n",
       "    <tr>\n",
       "      <th>1</th>\n",
       "      <td>0.33</td>\n",
       "      <td>0.1130</td>\n",
       "      <td>17.3</td>\n",
       "      <td>12.2</td>\n",
       "      <td>5.1</td>\n",
       "      <td>14.7333</td>\n",
       "      <td>2.5502</td>\n",
       "      <td>14.70</td>\n",
       "      <td>3</td>\n",
       "    </tr>\n",
       "    <tr>\n",
       "      <th>2</th>\n",
       "      <td>0.25</td>\n",
       "      <td>0.0406</td>\n",
       "      <td>15.6</td>\n",
       "      <td>12.7</td>\n",
       "      <td>2.9</td>\n",
       "      <td>14.2000</td>\n",
       "      <td>1.3342</td>\n",
       "      <td>14.25</td>\n",
       "      <td>4</td>\n",
       "    </tr>\n",
       "  </tbody>\n",
       "</table>\n",
       "</div>"
      ],
      "text/plain": [
       "   target  botton_score   max   min  range     mean     std  median  \\\n",
       "0    0.75        0.0430  16.3  13.1    3.2  15.0750  1.3769   15.45   \n",
       "1    0.33        0.1130  17.3  12.2    5.1  14.7333  2.5502   14.70   \n",
       "2    0.25        0.0406  15.6  12.7    2.9  14.2000  1.3342   14.25   \n",
       "\n",
       "   non_zero_per_row  \n",
       "0                 4  \n",
       "1                 3  \n",
       "2                 4  "
      ]
     },
     "metadata": {},
     "output_type": "display_data"
    }
   ],
   "source": [
    "# get treatment type for train_test_split stratify    \n",
    "treatment = df['Treatment'] \n",
    "\n",
    "df = df.drop(columns=['Treatment'])\n",
    "display(df.head(3))"
   ]
  },
  {
   "cell_type": "code",
   "execution_count": 7,
   "id": "2dc51f01-1cd3-41a9-8988-7bd209a851d6",
   "metadata": {},
   "outputs": [
    {
     "data": {
      "text/html": [
       "<div>\n",
       "<style scoped>\n",
       "    .dataframe tbody tr th:only-of-type {\n",
       "        vertical-align: middle;\n",
       "    }\n",
       "\n",
       "    .dataframe tbody tr th {\n",
       "        vertical-align: top;\n",
       "    }\n",
       "\n",
       "    .dataframe thead th {\n",
       "        text-align: right;\n",
       "    }\n",
       "</style>\n",
       "<table border=\"1\" class=\"dataframe\">\n",
       "  <thead>\n",
       "    <tr style=\"text-align: right;\">\n",
       "      <th></th>\n",
       "      <th>botton_score</th>\n",
       "      <th>max</th>\n",
       "      <th>min</th>\n",
       "      <th>range</th>\n",
       "      <th>mean</th>\n",
       "      <th>std</th>\n",
       "      <th>median</th>\n",
       "      <th>non_zero_per_row</th>\n",
       "    </tr>\n",
       "  </thead>\n",
       "  <tbody>\n",
       "    <tr>\n",
       "      <th>0</th>\n",
       "      <td>0.0430</td>\n",
       "      <td>16.3</td>\n",
       "      <td>13.1</td>\n",
       "      <td>3.2</td>\n",
       "      <td>15.0750</td>\n",
       "      <td>1.3769</td>\n",
       "      <td>15.45</td>\n",
       "      <td>4</td>\n",
       "    </tr>\n",
       "    <tr>\n",
       "      <th>1</th>\n",
       "      <td>0.1130</td>\n",
       "      <td>17.3</td>\n",
       "      <td>12.2</td>\n",
       "      <td>5.1</td>\n",
       "      <td>14.7333</td>\n",
       "      <td>2.5502</td>\n",
       "      <td>14.70</td>\n",
       "      <td>3</td>\n",
       "    </tr>\n",
       "    <tr>\n",
       "      <th>2</th>\n",
       "      <td>0.0406</td>\n",
       "      <td>15.6</td>\n",
       "      <td>12.7</td>\n",
       "      <td>2.9</td>\n",
       "      <td>14.2000</td>\n",
       "      <td>1.3342</td>\n",
       "      <td>14.25</td>\n",
       "      <td>4</td>\n",
       "    </tr>\n",
       "  </tbody>\n",
       "</table>\n",
       "</div>"
      ],
      "text/plain": [
       "   botton_score   max   min  range     mean     std  median  non_zero_per_row\n",
       "0        0.0430  16.3  13.1    3.2  15.0750  1.3769   15.45                 4\n",
       "1        0.1130  17.3  12.2    5.1  14.7333  2.5502   14.70                 3\n",
       "2        0.0406  15.6  12.7    2.9  14.2000  1.3342   14.25                 4"
      ]
     },
     "metadata": {},
     "output_type": "display_data"
    }
   ],
   "source": [
    "y = df['target'] \n",
    "X = df.drop(['target'], axis=1) # drop target\n",
    "display(X.head(3))"
   ]
  },
  {
   "cell_type": "code",
   "execution_count": 8,
   "id": "66ea14cf-2693-4346-8f58-8a93bf5e8599",
   "metadata": {},
   "outputs": [],
   "source": [
    "# 80/20 train-test\n",
    "X_train, X_test, y_train, y_test = train_test_split(X, y, test_size=0.20, stratify=treatment)"
   ]
  },
  {
   "cell_type": "code",
   "execution_count": 9,
   "id": "ab522f2e-144f-49a2-8d94-6fbc8c4785dc",
   "metadata": {},
   "outputs": [
    {
     "data": {
      "text/html": [
       "<div>\n",
       "<style scoped>\n",
       "    .dataframe tbody tr th:only-of-type {\n",
       "        vertical-align: middle;\n",
       "    }\n",
       "\n",
       "    .dataframe tbody tr th {\n",
       "        vertical-align: top;\n",
       "    }\n",
       "\n",
       "    .dataframe thead th {\n",
       "        text-align: right;\n",
       "    }\n",
       "</style>\n",
       "<table border=\"1\" class=\"dataframe\">\n",
       "  <thead>\n",
       "    <tr style=\"text-align: right;\">\n",
       "      <th></th>\n",
       "      <th>max</th>\n",
       "      <th>min</th>\n",
       "      <th>range</th>\n",
       "      <th>mean</th>\n",
       "      <th>std</th>\n",
       "      <th>median</th>\n",
       "      <th>non_zero_per_row</th>\n",
       "    </tr>\n",
       "  </thead>\n",
       "  <tbody>\n",
       "    <tr>\n",
       "      <th>2396</th>\n",
       "      <td>5.97</td>\n",
       "      <td>5.63</td>\n",
       "      <td>0.34</td>\n",
       "      <td>5.7920</td>\n",
       "      <td>0.1240</td>\n",
       "      <td>5.800</td>\n",
       "      <td>5</td>\n",
       "    </tr>\n",
       "    <tr>\n",
       "      <th>9999</th>\n",
       "      <td>18.76</td>\n",
       "      <td>5.92</td>\n",
       "      <td>12.84</td>\n",
       "      <td>12.6875</td>\n",
       "      <td>5.9019</td>\n",
       "      <td>13.035</td>\n",
       "      <td>4</td>\n",
       "    </tr>\n",
       "    <tr>\n",
       "      <th>8825</th>\n",
       "      <td>14.13</td>\n",
       "      <td>7.15</td>\n",
       "      <td>6.98</td>\n",
       "      <td>10.0400</td>\n",
       "      <td>2.9464</td>\n",
       "      <td>9.620</td>\n",
       "      <td>6</td>\n",
       "    </tr>\n",
       "  </tbody>\n",
       "</table>\n",
       "</div>"
      ],
      "text/plain": [
       "        max   min  range     mean     std  median  non_zero_per_row\n",
       "2396   5.97  5.63   0.34   5.7920  0.1240   5.800                 5\n",
       "9999  18.76  5.92  12.84  12.6875  5.9019  13.035                 4\n",
       "8825  14.13  7.15   6.98  10.0400  2.9464   9.620                 6"
      ]
     },
     "metadata": {},
     "output_type": "display_data"
    },
    {
     "data": {
      "text/html": [
       "<div>\n",
       "<style scoped>\n",
       "    .dataframe tbody tr th:only-of-type {\n",
       "        vertical-align: middle;\n",
       "    }\n",
       "\n",
       "    .dataframe tbody tr th {\n",
       "        vertical-align: top;\n",
       "    }\n",
       "\n",
       "    .dataframe thead th {\n",
       "        text-align: right;\n",
       "    }\n",
       "</style>\n",
       "<table border=\"1\" class=\"dataframe\">\n",
       "  <thead>\n",
       "    <tr style=\"text-align: right;\">\n",
       "      <th></th>\n",
       "      <th>max</th>\n",
       "      <th>min</th>\n",
       "      <th>range</th>\n",
       "      <th>mean</th>\n",
       "      <th>std</th>\n",
       "      <th>median</th>\n",
       "      <th>non_zero_per_row</th>\n",
       "    </tr>\n",
       "  </thead>\n",
       "  <tbody>\n",
       "    <tr>\n",
       "      <th>8661</th>\n",
       "      <td>18.54</td>\n",
       "      <td>6.31</td>\n",
       "      <td>12.23</td>\n",
       "      <td>11.695</td>\n",
       "      <td>4.9374</td>\n",
       "      <td>9.635</td>\n",
       "      <td>6</td>\n",
       "    </tr>\n",
       "    <tr>\n",
       "      <th>1289</th>\n",
       "      <td>11.95</td>\n",
       "      <td>5.61</td>\n",
       "      <td>6.34</td>\n",
       "      <td>9.064</td>\n",
       "      <td>2.4964</td>\n",
       "      <td>8.710</td>\n",
       "      <td>5</td>\n",
       "    </tr>\n",
       "    <tr>\n",
       "      <th>8470</th>\n",
       "      <td>9.72</td>\n",
       "      <td>5.83</td>\n",
       "      <td>3.89</td>\n",
       "      <td>7.746</td>\n",
       "      <td>1.6168</td>\n",
       "      <td>8.380</td>\n",
       "      <td>5</td>\n",
       "    </tr>\n",
       "  </tbody>\n",
       "</table>\n",
       "</div>"
      ],
      "text/plain": [
       "        max   min  range    mean     std  median  non_zero_per_row\n",
       "8661  18.54  6.31  12.23  11.695  4.9374   9.635                 6\n",
       "1289  11.95  5.61   6.34   9.064  2.4964   8.710                 5\n",
       "8470   9.72  5.83   3.89   7.746  1.6168   8.380                 5"
      ]
     },
     "metadata": {},
     "output_type": "display_data"
    }
   ],
   "source": [
    "# Remove botton score\n",
    "X_train = X_train.drop(['botton_score'], axis=1)\n",
    "\n",
    "# remove botton score\n",
    "botton_score_test = X_test['botton_score']\n",
    "X_test = X_test.drop(['botton_score'], axis=1)\n",
    "\n",
    "# display for check\n",
    "display(X_train.head(3))\n",
    "display(X_test.head(3))"
   ]
  },
  {
   "cell_type": "code",
   "execution_count": 10,
   "id": "2ad23ac0-ce9d-4943-ae44-53b9c8e047f1",
   "metadata": {},
   "outputs": [],
   "source": [
    "# Metrics for botton score for all sample no treatment\n",
    "metrics_botton_score = {\n",
    "    'Model': 'Botton score',\n",
    "    'MAE': mean_absolute_error(y_test, botton_score_test), # Mean Absolute Error\n",
    "    'MSE': mean_squared_error(y_test, botton_score_test), # Mean Squared Error\n",
    "    'RMSE': root_mean_squared_error(y_test, botton_score_test), # Root Mean Squared Error\n",
    "    'RMSE_per': rmse_precent(y_test, botton_score_test), # Root Mean Squared Error %    \n",
    "    'R2': r2_score(y_test, botton_score_test), # R2\n",
    "    'Median_AE': median_absolute_error(y_test, botton_score_test) # Median Absolute Error\n",
    "}"
   ]
  },
  {
   "cell_type": "markdown",
   "id": "71aa4a7a-9a25-4639-9267-aef13e7142ed",
   "metadata": {},
   "source": [
    "## XGB Regression for all sample and no treatment as feature"
   ]
  },
  {
   "cell_type": "code",
   "execution_count": 11,
   "id": "05291811-e921-4bd8-8aef-351137e6b8cf",
   "metadata": {},
   "outputs": [],
   "source": [
    "# Define hyperparameter distribution for xgboost\n",
    "param_dist = {\n",
    "    'n_estimators': randint(500, 1500), # integer\n",
    "    'max_depth': randint(3, 10), # integer\n",
    "    'min_child_weight': randint(1, 50), # integer\n",
    "    'subsample': uniform(loc=0.5, scale=0.5), # float loc=0.5 (inizio intervallo) e scale=0.5 (lunghezza intervallo), 0-5 + 0.5 = 1\n",
    "    'colsample_bytree': uniform(loc=0.5, scale=0.5), # float\n",
    "    'learning_rate': beta(a=2, b=1, loc=0.05, scale=0.15), # Valori tra 0.1 e 0.2 saranno più probabili di quelli vicino a 0.05.\n",
    "    'gamma': loguniform(1e-2, 10),  # più densità vicino a 0.01–1, meno verso 10\n",
    "    'alpha': loguniform(1e-3, 10),  # 0.001 – 10 la maggior parte delle volte i valori ottimali sono bassi (vicino a 0–1), ma conviene testare anche numeri più grandi.\n",
    "    'lambda': loguniform(1e-3, 10)  # da 0.001 a 10\n",
    "}"
   ]
  },
  {
   "cell_type": "code",
   "execution_count": 12,
   "id": "bb90d71d-0d4b-4241-9b60-0d3bef53f048",
   "metadata": {},
   "outputs": [
    {
     "name": "stdout",
     "output_type": "stream",
     "text": [
      "Fitting 5 folds for each of 1000 candidates, totalling 5000 fits\n"
     ]
    }
   ],
   "source": [
    "model = XGBRegressor(booster=\"gbtree\", n_jobs=-1)\n",
    "\n",
    "# Perform randomized search\n",
    "xgb_search = RandomizedSearchCV(\n",
    "    estimator=model,\n",
    "    param_distributions=param_dist,\n",
    "    n_iter=1000,\n",
    "    cv=5,\n",
    "    scoring='neg_mean_squared_error',\n",
    "    verbose=1\n",
    "    # random_state=42\n",
    ")\n",
    "\n",
    "# Fit the model \n",
    "xgb_search.fit(X_train, y_train.squeeze())\n",
    "\n",
    "# Miglior modello e predizioni\n",
    "best_model = xgb_search.best_estimator_ # BEST MODEL\n",
    "y_pred = best_model.predict(X_test)\n",
    "\n",
    "# Metrics for xgb\n",
    "metrics = {\n",
    "    'Model': 'XGBoost',\n",
    "    'MAE': mean_absolute_error(y_test, y_pred), # Mean Absolute Error\n",
    "    'MSE': mean_squared_error(y_test, y_pred), # Mean Squared Error\n",
    "    'RMSE': root_mean_squared_error(y_test, y_pred), # Root Mean Squared Error\n",
    "    'RMSE_per': rmse_precent(y_test, y_pred), # Root Mean Squared Error %    \n",
    "    'R2': r2_score(y_test, y_pred), # R^2\n",
    "    'Median_AE': median_absolute_error(y_test, y_pred) # Median Absolute Error\n",
    "}"
   ]
  },
  {
   "cell_type": "code",
   "execution_count": 13,
   "id": "25c5961a-50b7-4b46-ba2d-58618f24fc4e",
   "metadata": {},
   "outputs": [],
   "source": [
    "# Save all\n",
    "timestamp = datetime.now().strftime(\"%Y%m%dT%H%M\") # Timestamp per i file\n",
    "    \n",
    "# (1) Save Best Model\n",
    "joblib.dump(best_model, f\"XGB_gbtree_NoTreatment_best_model_{timestamp}.pkl\")\n",
    "    \n",
    "# (2) Save Metrics\n",
    "df_metrics = pd.DataFrame([metrics_botton_score, metrics])  # una riga con tutte le metriche\n",
    "df_metrics.to_csv(f\"XGB_gbtree_NoTreatment_evaluation_metrics_{timestamp}.csv\", index=False)\n",
    "    \n",
    "# (3) Save best hyper-parameters\n",
    "best_params = xgb_search.best_params_ # get best hyper-parameters\n",
    "df_params = pd.DataFrame([best_params])  # una riga con tutti gli iperparametri\n",
    "df_params.to_csv(f\"XGB_gbtree_NoTreatment_best_params_{timestamp}.csv\", index=False)\n",
    "    \n",
    "# (4) Save y_test e y_pred\n",
    "df_pred = pd.DataFrame({'y_test': y_test.squeeze(), 'y_pred': y_pred})\n",
    "df_pred.to_csv(f\"XGB_gbtree_NoTreatment_predictions_{timestamp}.csv\", index=False)"
   ]
  },
  {
   "cell_type": "code",
   "execution_count": 14,
   "id": "a0bbf38c-5585-4051-978d-2bc0cc17f669",
   "metadata": {},
   "outputs": [
    {
     "name": "stdout",
     "output_type": "stream",
     "text": [
      "Errors Botton score for all sample and no treatment as feature:\n",
      " - MAE: 0.502\n",
      " - MSE: 0.3427\n",
      " - RMSE: 0.5854\n",
      " - RMSE_per: 89.2832\n",
      " - R2: -2.2489\n",
      " - Median Absolute Error: 0.4975\n"
     ]
    }
   ],
   "source": [
    "print(\"Errors Botton score for all sample and no treatment as feature:\")\n",
    "print(f\" - MAE: {round(metrics_botton_score['MAE'], 4)}\")\n",
    "print(f\" - MSE: {round(metrics_botton_score['MSE'], 4)}\")\n",
    "print(f\" - RMSE: {round(metrics_botton_score['RMSE'], 4)}\")\n",
    "print(f\" - RMSE_per: {round(metrics_botton_score['RMSE_per'], 4)}\")\n",
    "print(f\" - R2: {round(metrics_botton_score['R2'], 4)}\")\n",
    "print(f\" - Median Absolute Error: {round(metrics_botton_score['Median_AE'], 4)}\")"
   ]
  },
  {
   "cell_type": "code",
   "execution_count": 15,
   "id": "474d3288-0fa3-4855-9630-3b0e1bec59c7",
   "metadata": {},
   "outputs": [
    {
     "name": "stdout",
     "output_type": "stream",
     "text": [
      "Errors XGboost for all sample and no treatment as feature:\n",
      " - MAE: 0.2414\n",
      " - MSE: 0.0872\n",
      " - RMSE: 0.2953\n",
      " - RMSE_per: 45.0451\n",
      " - R2: 0.173\n",
      " - Median Absolute Error: 0.2158\n"
     ]
    }
   ],
   "source": [
    "print(\"Errors XGboost for all sample and no treatment as feature:\")\n",
    "print(f\" - MAE: {round(metrics['MAE'], 4)}\")\n",
    "print(f\" - MSE: {round(metrics['MSE'], 4)}\")\n",
    "print(f\" - RMSE: {round(metrics['RMSE'], 4)}\")\n",
    "print(f\" - RMSE_per: {round(metrics['RMSE_per'], 4)}\")\n",
    "print(f\" - R2: {round(metrics['R2'], 4)}\")\n",
    "print(f\" - Median Absolute Error: {round(metrics['Median_AE'], 4)}\")"
   ]
  },
  {
   "cell_type": "code",
   "execution_count": 16,
   "id": "94ebdb8b-a448-498c-9c34-537acf7fccd9",
   "metadata": {},
   "outputs": [
    {
     "name": "stdout",
     "output_type": "stream",
     "text": [
      "\n",
      "Feature importance:\n",
      "             Feature  Importance\n",
      "3              mean    3.466005\n",
      "5            median    1.828512\n",
      "1               min    1.804144\n",
      "2             range    1.460266\n",
      "4               std    1.300130\n",
      "6  non_zero_per_row    1.296772\n",
      "0               max    0.905341\n"
     ]
    }
   ],
   "source": [
    "importance = best_model.get_booster().get_score(importance_type='gain')\n",
    "\n",
    "# converti in DataFrame\n",
    "importance_df = pd.DataFrame({\n",
    "    'Feature': list(importance.keys()),\n",
    "    'Importance': list(importance.values())\n",
    "})\n",
    "\n",
    "# ordina in ordine decrescente\n",
    "feat_importances = importance_df.sort_values(by='Importance', ascending=False)\n",
    "print(\"\\nFeature importance:\\n\", feat_importances)\n",
    "\n",
    "feat_importances.to_csv(f\"XGB_gbtree_NoTreatment_FeatureImportance_{timestamp}.csv\", index=False)"
   ]
  },
  {
   "cell_type": "code",
   "execution_count": 17,
   "id": "f4df2583-ee9a-4d3e-b1e8-3104e91c731b",
   "metadata": {},
   "outputs": [
    {
     "data": {
      "image/png": "[encoded data removed]",
      "text/plain": [
       "<Figure size 800x500 with 1 Axes>"
      ]
     },
     "metadata": {},
     "output_type": "display_data"
    }
   ],
   "source": [
    "plt.figure(figsize=(8,5))\n",
    "plt.barh(feat_importances[\"Feature\"], feat_importances[\"Importance\"], color=\"skyblue\", edgecolor=\"black\")\n",
    "plt.title(\"Feature Importance - Best XGB Model - all samples but without treatment as feature\")\n",
    "plt.xlabel(\"Importance\")\n",
    "plt.ylabel(\"Features\")\n",
    "plt.gca().invert_yaxis()  # Per avere la più importante in alto\n",
    "plt.tight_layout()\n",
    "plt.show()"
   ]
  }
 ],
 "metadata": {
  "kernelspec": {
   "display_name": "Python 3 (ipykernel)",
   "language": "python",
   "name": "python3"
  },
  "language_info": {
   "codemirror_mode": {
    "name": "ipython",
    "version": 3
   },
   "file_extension": ".py",
   "mimetype": "text/x-python",
   "name": "python",
   "nbconvert_exporter": "python",
   "pygments_lexer": "ipython3",
   "version": "3.13.7"
  }
 },
 "nbformat": 4,
 "nbformat_minor": 5
}
